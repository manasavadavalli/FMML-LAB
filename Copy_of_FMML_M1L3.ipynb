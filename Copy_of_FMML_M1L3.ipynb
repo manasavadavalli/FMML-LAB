{
  "cells": [
    {
      "cell_type": "markdown",
      "metadata": {
        "id": "view-in-github",
        "colab_type": "text"
      },
      "source": [
        "<a href=\"https://colab.research.google.com/github/manasavadavalli/FMML-LAB/blob/main/Copy_of_FMML_M1L3.ipynb\" target=\"_parent\"><img src=\"https://colab.research.google.com/assets/colab-badge.svg\" alt=\"Open In Colab\"/></a>"
      ]
    },
    {
      "cell_type": "markdown",
      "metadata": {
        "id": "w3yfry25JgZK"
      },
      "source": [
        "# Data Augmentation\n",
        "\n",
        "FMML Module 1, Lab 3\n",
        "\n",
        "In this lab, we will see how augmentation of data samples help in improving the machine learning performance. Augmentation is the process of creating new data samples by making reasonable modifications to the original data samples. This is particularly useful when the size of the training data is small. We will use the MNISt dataset for this lab. We will also reuse functions from the previous labs."
      ]
    },
    {
      "cell_type": "code",
      "execution_count": null,
      "metadata": {
        "id": "xZU8_elooqP0"
      },
      "outputs": [],
      "source": [
        "import numpy as np\n",
        "import matplotlib.pyplot as plt\n",
        "from keras.datasets import mnist\n",
        "from sklearn.utils.extmath import cartesian\n",
        "from skimage.transform import rotate, AffineTransform, warp\n",
        "\n",
        "rng = np.random.default_rng(seed=42)"
      ]
    },
    {
      "cell_type": "code",
      "execution_count": null,
      "metadata": {
        "id": "gJvmWJ58ovx5",
        "colab": {
          "base_uri": "https://localhost:8080/"
        },
        "outputId": "5ef6cfd7-859f-4e95-e8ec-f1d6810a08cf"
      },
      "outputs": [
        {
          "output_type": "stream",
          "name": "stdout",
          "text": [
            "Downloading data from https://storage.googleapis.com/tensorflow/tf-keras-datasets/mnist.npz\n",
            "\u001b[1m11490434/11490434\u001b[0m \u001b[32m━━━━━━━━━━━━━━━━━━━━\u001b[0m\u001b[37m\u001b[0m \u001b[1m0s\u001b[0m 0us/step\n"
          ]
        }
      ],
      "source": [
        "# loading the dataset\n",
        "(train_X, train_y), (test_X, test_y) = mnist.load_data()\n",
        "\n",
        "# normalizing the data\n",
        "train_X = train_X / 255\n",
        "test_X = test_X / 255\n",
        "\n",
        "# subsample from images and labels. Otherwise it will take too long!\n",
        "train_X = train_X[::1200, :, :].copy()\n",
        "train_y = train_y[::1200].copy()"
      ]
    },
    {
      "cell_type": "markdown",
      "metadata": {
        "id": "8XamH6z1Rt7S"
      },
      "source": [
        "Let us borrow a few functions from the previous labs:"
      ]
    },
    {
      "cell_type": "code",
      "execution_count": null,
      "metadata": {
        "id": "Zk2W5_3BRLMS"
      },
      "outputs": [],
      "source": [
        "def NN1(traindata, trainlabel, query):\n",
        "    \"\"\"\n",
        "    This function takes in the training data, training labels and a query point\n",
        "    and returns the predicted label for the query point using the nearest neighbour algorithm\n",
        "\n",
        "    traindata: numpy array of shape (n,d) where n is the number of samples and d is the number of features\n",
        "    trainlabel: numpy array of shape (n,) where n is the number of samples\n",
        "    query: numpy array of shape (d,) where d is the number of features\n",
        "\n",
        "    returns: the predicted label for the query point which is the label of the training data which is closest to the query point\n",
        "    \"\"\"\n",
        "    diff = (\n",
        "        traindata - query\n",
        "    )  # find the difference between features. Numpy automatically takes care of the size here\n",
        "    sq = diff * diff  # square the differences\n",
        "    dist = sq.sum(1)  # add up the squares\n",
        "    label = trainlabel[np.argmin(dist)]\n",
        "    return label\n",
        "\n",
        "\n",
        "def NN(traindata, trainlabel, testdata):\n",
        "    \"\"\"\n",
        "    This function takes in the training data, training labels and test data\n",
        "    and returns the predicted labels for the test data using the nearest neighbour algorithm\n",
        "\n",
        "    traindata: numpy array of shape (n,d) where n is the number of samples and d is the number of features\n",
        "    trainlabel: numpy array of shape (n,) where n is the number of samples\n",
        "    testdata: numpy array of shape (m,d) where m is the number of test samples and d is the number of features\n",
        "\n",
        "    returns: the predicted labels for the test data which is the label of the training data which is closest to each test point\n",
        "    \"\"\"\n",
        "    traindata = traindata.reshape(-1, 28*28)\n",
        "    testdata = testdata.reshape(-1, 28*28)\n",
        "    predlabel = np.array([NN1(traindata, trainlabel, i) for i in testdata])\n",
        "    return predlabel\n",
        "\n",
        "\n",
        "def Accuracy(gtlabel, predlabel):\n",
        "    \"\"\"\n",
        "    This function takes in the ground-truth labels and predicted labels\n",
        "    and returns the accuracy of the classifier\n",
        "\n",
        "    gtlabel: numpy array of shape (n,) where n is the number of samples\n",
        "    predlabel: numpy array of shape (n,) where n is the number of samples\n",
        "\n",
        "    returns: the accuracy of the classifier which is the number of correct predictions divided by the total number of predictions\n",
        "    \"\"\"\n",
        "    assert len(gtlabel) == len(\n",
        "        predlabel\n",
        "    ), \"Length of the ground-truth labels and predicted labels should be the same\"\n",
        "    correct = (\n",
        "        gtlabel == predlabel\n",
        "    ).sum()  # count the number of times the groundtruth label is equal to the predicted label.\n",
        "    return correct / len(gtlabel)"
      ]
    },
    {
      "cell_type": "markdown",
      "metadata": {
        "id": "eGiA3LmDSJZo"
      },
      "source": [
        "In this lab, we will use the image pixels themselves as features, instead of extracting features. Each image has 28*28 pixels, so we will flatten them to 784 pixels to use as features. Note that this is very compute intensive and will take a long time. Let us first check the baseline accuracy on the test set without any augmentations. We hope that adding augmentations will help us to get better results."
      ]
    },
    {
      "cell_type": "code",
      "execution_count": null,
      "metadata": {
        "colab": {
          "base_uri": "https://localhost:8080/"
        },
        "id": "4tQvnoasRNEV",
        "outputId": "c654541b-41f8-409f-b443-db2211a710b1"
      },
      "outputs": [
        {
          "output_type": "stream",
          "name": "stdout",
          "text": [
            "Baseline accuracy without augmentation: 64.72 %\n"
          ]
        }
      ],
      "source": [
        "testpred = NN(train_X, train_y, test_X)\n",
        "print(\"Baseline accuracy without augmentation:\",\n",
        "      Accuracy(test_y, testpred)*100, \"%\")"
      ]
    },
    {
      "cell_type": "markdown",
      "metadata": {
        "id": "ZfkcMfhIZQ7U"
      },
      "source": [
        "Let us try to improve this accuracy using augmentations. When we create augmentations, we have to make sure that the changes reflect what will naturally occur in the dataset. For example, we should not add colour to our samples as an augmentation because they do not naturally occur. We should not also flip the images in MNIST, because flipped images have different meanings for digits. So, we will use the following augmentations:\n",
        "\n",
        "### Augmentation 1: Rotation\n",
        "\n",
        "Let us try rotating the image a little. We will use the `rotate` function from the `skimage` module. We will rotate the image by 10 degrees and -10 degrees. Rotation is a reasonable augmentation because the digit will still be recognizable even after rotation and is representative of the dataset."
      ]
    },
    {
      "cell_type": "code",
      "execution_count": null,
      "metadata": {
        "colab": {
          "base_uri": "https://localhost:8080/",
          "height": 296
        },
        "id": "z5WolJ9fZE7L",
        "outputId": "a9f6d177-0c14-4a66-c7f4-2ab1c3c6ebc1"
      },
      "outputs": [
        {
          "output_type": "display_data",
          "data": {
            "text/plain": [
              "<Figure size 1500x500 with 3 Axes>"
            ],
            "image/png": "[encoded data removed]"
          },
          "metadata": {}
        }
      ],
      "source": [
        "fig, axs = plt.subplots(1, 3, figsize=(15, 5))\n",
        "\n",
        "axs[0].imshow(train_X[2], cmap=\"gray\")\n",
        "axs[0].set_title(\"Original Image\")\n",
        "\n",
        "axs[1].imshow(rotate(train_X[2], 10), cmap=\"gray\")\n",
        "axs[1].set_title(\"Rotate +10 degrees\")\n",
        "\n",
        "axs[2].imshow(rotate(train_X[2], -10), cmap=\"gray\")\n",
        "axs[2].set_title(\"Rotate -10 degrees\")\n",
        "\n",
        "plt.show()"
      ]
    },
    {
      "cell_type": "markdown",
      "metadata": {
        "id": "KE33Yxgggu0c"
      },
      "source": [
        "After rotating, the the class of the image is still the same. Let us make a function to rotate multiple images by random angles. We want a slightly different image every time we run this function. So, we generate a random number between 0 and 1 and change it so that it lies between -constraint/2 and +constraint/2"
      ]
    },
    {
      "cell_type": "code",
      "execution_count": null,
      "metadata": {
        "id": "vyM7pUV7Reze"
      },
      "outputs": [],
      "source": [
        "def augRotate(sample, angleconstraint):\n",
        "    \"\"\"\n",
        "    This function takes in a sample and an angle constraint and returns the augmented sample\n",
        "    by rotating the sample by a random angle within the angle constraint\n",
        "\n",
        "    sample: numpy array of shape (n,d) where n is the number of samples and d is the number of features\n",
        "    angleconstraint: the maximum angle by which the sample can be rotated\n",
        "\n",
        "    returns: the augmented sample which is the input sample rotated by a random angle within the angle constraint\n",
        "    \"\"\"\n",
        "    if angleconstraint == 0:\n",
        "        return sample\n",
        "    if len(sample.shape) == 2:\n",
        "        # make sure the sample is 3 dimensional\n",
        "        sample = np.expand_dims(sample, 0)\n",
        "    angle = rng.random(len(sample))  # generate random numbers for angles\n",
        "    # make the random angle constrained\n",
        "    angle = (angle - 0.5) * angleconstraint\n",
        "    nsample = sample.copy()  # preallocate the augmented array to make it faster\n",
        "    for ii in range(len(sample)):\n",
        "        nsample[ii] = rotate(sample[ii], angle[ii])\n",
        "    return np.squeeze(nsample)  # take care if the input had only one sample."
      ]
    },
    {
      "cell_type": "markdown",
      "metadata": {
        "id": "kDk-N5VNjar9"
      },
      "source": [
        "This function returns a slightly different image each time we call it. So we can increase the number of images in the sample by any multiple."
      ]
    },
    {
      "cell_type": "code",
      "execution_count": null,
      "metadata": {
        "colab": {
          "base_uri": "https://localhost:8080/",
          "height": 283
        },
        "id": "Vw3O9zGFgI8K",
        "outputId": "cb26bfdc-b4cf-41de-b749-f2ced94ab684"
      },
      "outputs": [
        {
          "output_type": "display_data",
          "data": {
            "text/plain": [
              "<Figure size 1500x500 with 5 Axes>"
            ],
            "image/png": "[encoded data removed]"
          },
          "metadata": {}
        }
      ],
      "source": [
        "sample = train_X[20]\n",
        "angleconstraint = 70\n",
        "\n",
        "fig, axs = plt.subplots(1, 5, figsize=(15, 5))\n",
        "\n",
        "axs[0].imshow(sample, cmap=\"gray\")\n",
        "axs[0].set_title(\"Original Image\")\n",
        "\n",
        "axs[1].imshow(augRotate(sample, angleconstraint), cmap=\"gray\")\n",
        "axs[1].set_title(\"Aug. Sample 1\")\n",
        "\n",
        "axs[2].imshow(augRotate(sample, angleconstraint), cmap=\"gray\")\n",
        "axs[2].set_title(\"Aug. Sample 2\")\n",
        "\n",
        "axs[3].imshow(augRotate(sample, angleconstraint), cmap=\"gray\")\n",
        "axs[3].set_title(\"Aug. Sample 3\")\n",
        "\n",
        "axs[4].imshow(augRotate(sample, angleconstraint), cmap=\"gray\")\n",
        "axs[4].set_title(\"Aug. Sample 4\")\n",
        "\n",
        "plt.show()"
      ]
    },
    {
      "cell_type": "markdown",
      "metadata": {
        "id": "ytv3NxF-kgxN"
      },
      "source": [
        "Let us augment the whole dataset and see if this improves the test accuracy"
      ]
    },
    {
      "cell_type": "code",
      "execution_count": null,
      "metadata": {
        "colab": {
          "base_uri": "https://localhost:8080/"
        },
        "id": "iNzNAoDBkRzj",
        "outputId": "b45f3992-417e-42af-a50b-401d1ad356ea"
      },
      "outputs": [
        {
          "output_type": "stream",
          "name": "stdout",
          "text": [
            "Accuracy after rotation augmentation: 67.42 %\n"
          ]
        }
      ],
      "source": [
        "# hyperparameters\n",
        "angleconstraint = 60\n",
        "naugmentations = 5\n",
        "\n",
        "# augment\n",
        "augdata = train_X  # we include the original images also in the augmented dataset\n",
        "auglabel = train_y\n",
        "for ii in range(naugmentations):\n",
        "    augdata = np.concatenate(\n",
        "        (augdata, augRotate(train_X, angleconstraint))\n",
        "    )  # concatenate the augmented data to the set\n",
        "    auglabel = np.concatenate(\n",
        "        (auglabel, train_y)\n",
        "    )  # the labels don't change when we augment\n",
        "\n",
        "# check the test accuracy\n",
        "testpred = NN(augdata, auglabel, test_X)\n",
        "print(\"Accuracy after rotation augmentation:\", Accuracy(test_y, testpred)*100, \"%\")"
      ]
    },
    {
      "cell_type": "markdown",
      "metadata": {
        "id": "E88Nt9s1p5R6"
      },
      "source": [
        "We can notice a 3-4% improvement compared to non-augmented version of the dataset!\n",
        "\n",
        "The angle constraint is a hyperparameter which we have to tune using a validation set. (Here we are not doing that for time constraints). Let us try a grid search to find the best angle constraint. We will try angles between 0 and 90 degrees. We can also try different multiples of the original dataset. We will use the best hyperparameters to train the model and check the accuracy on the test set."
      ]
    },
    {
      "cell_type": "code",
      "execution_count": null,
      "metadata": {
        "colab": {
          "base_uri": "https://localhost:8080/"
        },
        "id": "aiaFRLREmGp6",
        "outputId": "b8621c94-25cc-4e42-8d3c-1db145574f30"
      },
      "outputs": [
        {
          "output_type": "stream",
          "name": "stdout",
          "text": [
            "Accuracy after rotation augmentation constrained by 0 degrees is 64.72 %\n",
            "Accuracy after rotation augmentation constrained by 10 degrees is 67.2 %\n",
            "Accuracy after rotation augmentation constrained by 20 degrees is 67.08 %\n",
            "Accuracy after rotation augmentation constrained by 30 degrees is 68.52000000000001 %\n",
            "Accuracy after rotation augmentation constrained by 40 degrees is 68.08 %\n",
            "Accuracy after rotation augmentation constrained by 50 degrees is 67.78999999999999 %\n",
            "Accuracy after rotation augmentation constrained by 60 degrees is 67.28 %\n",
            "Accuracy after rotation augmentation constrained by 70 degrees is 66.75999999999999 %\n",
            "Accuracy after rotation augmentation constrained by 80 degrees is 65.03999999999999 %\n",
            "Accuracy after rotation augmentation constrained by 90 degrees is 64.67 %\n"
          ]
        }
      ],
      "source": [
        "angleconstraints = [0, 10, 20, 30, 40, 50, 60, 70, 80, 90]  # the values we want to test\n",
        "accuracies = np.zeros(\n",
        "    len(angleconstraints), dtype=float\n",
        ")  # we will save the values here\n",
        "\n",
        "for ii in range(len(angleconstraints)):\n",
        "    # create the augmented dataset\n",
        "    augdata = train_X  # we include the original images also in the augmented dataset\n",
        "    auglabel = train_y\n",
        "    for jj in range(naugmentations):\n",
        "        augdata = np.concatenate(\n",
        "            (augdata, augRotate(train_X, angleconstraints[ii]))\n",
        "        )  # concatenate the augmented data to the set\n",
        "        auglabel = np.concatenate(\n",
        "            (auglabel, train_y)\n",
        "        )  # the labels don't change when we augment\n",
        "\n",
        "    # check the test accuracy\n",
        "    testpred = NN(augdata, auglabel, test_X)\n",
        "    accuracies[ii] = Accuracy(test_y, testpred)\n",
        "    print(\n",
        "        \"Accuracy after rotation augmentation constrained by\",\n",
        "        angleconstraints[ii],\n",
        "        \"degrees is\",\n",
        "        accuracies[ii]*100,\n",
        "        \"%\",\n",
        "        flush=True,\n",
        "    )"
      ]
    },
    {
      "cell_type": "markdown",
      "metadata": {
        "id": "2oVDRYP2rxob"
      },
      "source": [
        "Let us see the best value for angle constraint: (Ideally this should be done on validation set, not test set)"
      ]
    },
    {
      "cell_type": "code",
      "execution_count": null,
      "metadata": {
        "colab": {
          "base_uri": "https://localhost:8080/",
          "height": 482
        },
        "id": "LqthJa_pmMHz",
        "outputId": "a4ccd942-8736-431a-a720-f52a19496266"
      },
      "outputs": [
        {
          "output_type": "execute_result",
          "data": {
            "text/plain": [
              "<matplotlib.collections.PathCollection at 0x7d7f6d88dc00>"
            ]
          },
          "metadata": {},
          "execution_count": 9
        },
        {
          "output_type": "display_data",
          "data": {
            "text/plain": [
              "<Figure size 640x480 with 1 Axes>"
            ],
            "image/png": "[encoded data removed]"
          },
          "metadata": {}
        }
      ],
      "source": [
        "fig = plt.figure()\n",
        "ax = fig.add_axes([0.1, 0.1, 0.8, 0.8])\n",
        "# plot the variation of accuracy\n",
        "ax.plot(angleconstraints, accuracies)\n",
        "ax.set_xlabel(\"angle\")\n",
        "ax.set_ylabel(\"accuracy\")\n",
        "\n",
        "# plot the maximum accuracy\n",
        "maxind = np.argmax(accuracies)\n",
        "plt.scatter(angleconstraints[maxind], accuracies[maxind], c=\"red\")"
      ]
    },
    {
      "cell_type": "markdown",
      "metadata": {
        "id": "eJ8YuVfCuGTj"
      },
      "source": [
        "### Augmentation 2: Shear\n",
        "\n",
        "\n",
        "Let us try one more augmentation: shear. Shear is the transformation of an image in which the x-coordinate of all points is shifted by an amount proportional to the y-coordinate of the point. We will use the `AffineTransform` function from the `skimage` module to shear the image by a small amount between two numbers. We will use the same naive grid search method to find the best hyperparameters for shear. We will use the best hyperparameters to train the model and check the accuracy on the test set."
      ]
    },
    {
      "cell_type": "code",
      "execution_count": null,
      "metadata": {
        "id": "pMiw46NLwssK"
      },
      "outputs": [],
      "source": [
        "def shear(sample, amount):\n",
        "    \"\"\"\n",
        "    This function takes in a sample and an amount and returns the augmented sample\n",
        "    by shearing the sample by the given amount\n",
        "\n",
        "    sample: numpy array of shape (n,d) where n is the number of samples and d is the number of features\n",
        "    amount: the amount by which the sample should be sheared\n",
        "\n",
        "    returns: the augmented sample which is the input sample sheared by the given amount\n",
        "    \"\"\"\n",
        "    tform = AffineTransform(shear=amount)\n",
        "    img = warp(sample, tform)\n",
        "\n",
        "    # Applying shear makes the digit off-center\n",
        "    # Since all images are centralized, we will do the same here\n",
        "    col = img.sum(0).nonzero()[0]\n",
        "    row = img.sum(1).nonzero()[0]\n",
        "    if len(col) > 0 and len(row) > 0:\n",
        "        xshift = int(sample.shape[0] / 2 - (row[0] + row[-1]) / 2)\n",
        "        yshift = int(sample.shape[1] / 2 - (col[0] + col[-1]) / 2)\n",
        "        img = np.roll(img, (xshift, yshift), (0, 1))\n",
        "    return img"
      ]
    },
    {
      "cell_type": "code",
      "execution_count": null,
      "metadata": {
        "colab": {
          "base_uri": "https://localhost:8080/",
          "height": 235
        },
        "id": "4_u_EYpmnABK",
        "outputId": "f46a57dd-0709-4c3e-c4c9-3d07ce7c0810"
      },
      "outputs": [
        {
          "output_type": "display_data",
          "data": {
            "text/plain": [
              "<Figure size 1500x500 with 4 Axes>"
            ],
            "image/png": "[encoded data removed]"
          },
          "metadata": {}
        }
      ],
      "source": [
        "sample = train_X[2]\n",
        "fig, axs = plt.subplots(1, 4, figsize=(15, 5))\n",
        "\n",
        "axs[0].imshow(sample, cmap=\"gray\")\n",
        "axs[0].set_title(\"Original Image\")\n",
        "\n",
        "axs[1].imshow(shear(sample, 0.2), cmap=\"gray\")\n",
        "axs[1].set_title(\"Amount = 0.2\")\n",
        "\n",
        "axs[2].imshow(shear(sample, 0.4), cmap=\"gray\")\n",
        "axs[2].set_title(\"Amount = 0.4\")\n",
        "\n",
        "axs[3].imshow(shear(sample, 0.6), cmap=\"gray\")\n",
        "axs[3].set_title(\"Amount = 0.6\")\n",
        "\n",
        "plt.show()"
      ]
    },
    {
      "cell_type": "markdown",
      "metadata": {
        "id": "lGnWMoyM2pK4"
      },
      "source": [
        "Create an augmentation function which applies a random shear according to the constraint we provide:"
      ]
    },
    {
      "cell_type": "code",
      "execution_count": null,
      "metadata": {
        "id": "-qLDJyGytwP5"
      },
      "outputs": [],
      "source": [
        "def augShear(sample, shearconstraint):\n",
        "    \"\"\"\n",
        "    This function takes in a sample and a shear constraint and returns the augmented sample\n",
        "    by shearing the sample by a random amount within the shear constraint\n",
        "\n",
        "    sample: numpy array of shape (n,d) where n is the number of samples and d is the number of features\n",
        "    shearconstraint: the maximum shear by which the sample can be sheared\n",
        "\n",
        "    returns: the augmented sample which is the input sample sheared by a random amount within the shear constraint\n",
        "    \"\"\"\n",
        "    if shearconstraint == 0:\n",
        "        return sample\n",
        "    if len(sample.shape) == 2:\n",
        "        # make sure the sample is 3 dimensional\n",
        "        sample = np.expand_dims(sample, 0)\n",
        "    amt = rng.random(len(sample))  # generate random numbers for shear\n",
        "    amt = (amt - 0.5) * shearconstraint  # make the random shear constrained\n",
        "    nsample = sample.copy()  # preallocate the augmented array to make it faster\n",
        "    for ii in range(len(sample)):\n",
        "        nsample[ii] = shear(sample[ii], amt[ii])\n",
        "    return np.squeeze(nsample)  # take care if the input had only one sample."
      ]
    },
    {
      "cell_type": "markdown",
      "metadata": {
        "id": "s6lQcWW93suJ"
      },
      "source": [
        "Let us do a grid search to find the best shear constraint."
      ]
    },
    {
      "cell_type": "code",
      "execution_count": null,
      "metadata": {
        "colab": {
          "base_uri": "https://localhost:8080/"
        },
        "id": "l_wrqPkrzBb_",
        "outputId": "304e14b4-5249-418a-bbf9-eeeee0d9f765"
      },
      "outputs": [
        {
          "output_type": "stream",
          "name": "stdout",
          "text": [
            "Accuracy after shear augmentation constrained by 0 is 10.0 %\n",
            "Accuracy after shear augmentation constrained by 0.2 is 5.0 %\n",
            "Accuracy after shear augmentation constrained by 0.4 is 20.0 %\n",
            "Accuracy after shear augmentation constrained by 0.6 is 10.0 %\n",
            "Accuracy after shear augmentation constrained by 0.8 is 15.0 %\n",
            "Accuracy after shear augmentation constrained by 1.0 is 5.0 %\n",
            "Accuracy after shear augmentation constrained by 1.2 is 20.0 %\n",
            "Accuracy after shear augmentation constrained by 1.4 is 10.0 %\n",
            "Accuracy after shear augmentation constrained by 1.6 is 10.0 %\n",
            "Accuracy after shear augmentation constrained by 1.8 is 20.0 %\n",
            "Accuracy after shear augmentation constrained by 2.0 is 20.0 %\n"
          ]
        }
      ],
      "source": [
        "import numpy as np\n",
        "\n",
        "# Example dataset (you need to replace this with actual data)\n",
        "train_X = np.random.rand(100, 28, 28)  # Example 100 training images of size 28x28\n",
        "train_y = np.random.randint(0, 10, size=(100,))  # Example 100 labels (for 10 classes)\n",
        "test_X = np.random.rand(20, 28, 28)  # Example 20 test images of size 28x28\n",
        "test_y = np.random.randint(0, 10, size=(20,))  # Example 20 test labels (for 10 classes)\n",
        "\n",
        "# Example of augmentations (you would need your specific augmentation function here)\n",
        "def augShear(images, shear_value):\n",
        "    # This is a placeholder for your shear augmentation function\n",
        "    # You would apply shear transformations here\n",
        "    return images\n",
        "\n",
        "# Example neural network function (replace with your actual model)\n",
        "def NN(augdata, auglabel, test_X):\n",
        "    # This is a placeholder for your neural network prediction function\n",
        "    # Replace with actual model inference, for now, we'll return a random prediction\n",
        "    return np.random.randint(0, 10, size=test_X.shape[0])\n",
        "\n",
        "# Accuracy function (you should implement your accuracy calculation here)\n",
        "def Accuracy(true_labels, predicted_labels):\n",
        "    # This is a placeholder for the accuracy function\n",
        "    return np.mean(true_labels == predicted_labels)\n",
        "\n",
        "# Define the shear constraints and accuracies\n",
        "shearconstraints = [\n",
        "    0,\n",
        "    0.2,\n",
        "    0.4,\n",
        "    0.6,\n",
        "    0.8,\n",
        "    1.0,\n",
        "    1.2,\n",
        "    1.4,\n",
        "    1.6,\n",
        "    1.8,\n",
        "    2.0,\n",
        "]  # the values we want to test\n",
        "\n",
        "accuracies = np.zeros(len(shearconstraints), dtype=float)  # We will save the values here\n",
        "\n",
        "# Number of augmentations to perform (example, adjust as needed)\n",
        "naugmentations = 5  # Example value, change based on your requirements\n",
        "\n",
        "# Loop through each shear constraint value\n",
        "for ii in range(len(shearconstraints)):\n",
        "    # Create the augmented dataset\n",
        "    augdata = train_X  # Include the original images also in the augmented dataset\n",
        "    auglabel = train_y\n",
        "    for jj in range(naugmentations):\n",
        "        augdata = np.concatenate((augdata, augShear(train_X, shearconstraints[ii])))  # Concatenate the augmented data\n",
        "        auglabel = np.concatenate((auglabel, train_y))  # The labels don't change when we augment\n",
        "\n",
        "    # Check the test accuracy\n",
        "    testpred = NN(augdata, auglabel, test_X)\n",
        "    accuracies[ii] = Accuracy(test_y, testpred)\n",
        "    print(\n",
        "        \"Accuracy after shear augmentation constrained by\",\n",
        "        shearconstraints[ii],\n",
        "        \"is\",\n",
        "        accuracies[ii] * 100,\n",
        "        \"%\",\n",
        "        flush=True,\n",
        "    )\n"
      ]
    },
    {
      "cell_type": "code",
      "execution_count": null,
      "metadata": {
        "colab": {
          "base_uri": "https://localhost:8080/",
          "height": 482
        },
        "id": "EKaH-YR-zVnA",
        "outputId": "d9e765a8-6dd1-402b-e368-db57d811066f"
      },
      "outputs": [
        {
          "output_type": "execute_result",
          "data": {
            "text/plain": [
              "<matplotlib.collections.PathCollection at 0x7a5b38a09480>"
            ]
          },
          "metadata": {},
          "execution_count": 15
        },
        {
          "output_type": "display_data",
          "data": {
            "text/plain": [
              "<Figure size 640x480 with 1 Axes>"
            ],
            "image/png": "[encoded data removed]"
          },
          "metadata": {}
        }
      ],
      "source": [
        "fig = plt.figure()\n",
        "ax = fig.add_axes([0.1, 0.1, 0.8, 0.8])\n",
        "# plot the variation of accuracy\n",
        "ax.plot(shearconstraints, accuracies)\n",
        "ax.set_xlabel(\"angle\")\n",
        "ax.set_ylabel(\"accuracy\")\n",
        "\n",
        "# plot the maximum accuracy\n",
        "maxind = np.argmax(accuracies)\n",
        "plt.scatter(shearconstraints[maxind], accuracies[maxind], c=\"red\")"
      ]
    },
    {
      "cell_type": "markdown",
      "metadata": {
        "id": "ccfdbRcQ7Zgg"
      },
      "source": [
        "### Augmentation 3: Rotation + Shear\n",
        "\n",
        "\n",
        "\n",
        "We can do multiple augmentations at the same time. Here is a function to do both shear and rotation to the sample. In this case, we will have two hyperparameters."
      ]
    },
    {
      "cell_type": "code",
      "execution_count": null,
      "metadata": {
        "id": "sh8S_Pxa0XCv"
      },
      "outputs": [],
      "source": [
        "def augRotateShear(sample, angleconstraint, shearconstraint):\n",
        "    \"\"\"\n",
        "    This function takes in a sample, an angle constraint and a shear constraint and returns the augmented sample\n",
        "    by rotating the sample by a random angle within the angle constraint and shearing the sample by a random amount within the shear constraint\n",
        "\n",
        "    sample: numpy array of shape (n,d) where n is the number of samples and d is the number of features\n",
        "    angleconstraint: the maximum angle by which the sample can be rotated\n",
        "    shearconstraint: the maximum shear by which the sample can be sheared\n",
        "\n",
        "    returns: the augmented sample which is the input sample rotated by a random angle within the angle constraint and sheared by a random amount within the shear constraint\n",
        "    \"\"\"\n",
        "    if len(sample.shape) == 2:\n",
        "        # make sure the sample is 3 dimensional\n",
        "        sample = np.expand_dims(sample, 0)\n",
        "    amt = rng.random(len(sample))  # generate random numbers for shear\n",
        "    amt = (amt - 0.5) * shearconstraint  # make the random shear constrained\n",
        "    angle = rng.random(len(sample))  # generate random numbers for angles\n",
        "    # make the random angle constrained\n",
        "    angle = (angle - 0.5) * angleconstraint\n",
        "    nsample = sample.copy()  # preallocate the augmented array to make it faster\n",
        "    for ii in range(len(sample)):\n",
        "        nsample[ii] = rotate(\n",
        "            shear(sample[ii], amt[ii]), angle[ii]\n",
        "        )  # first apply shear, then rotate\n",
        "    return np.squeeze(nsample)  # take care if the input had only one sample."
      ]
    },
    {
      "cell_type": "markdown",
      "metadata": {
        "id": "OGKyjjNx-NQ4"
      },
      "source": [
        "Since we have two hyperparameters, we have to do the grid search on a 2 dimensional matrix. We can use our previous experience to inform where to search for the best hyperparameters."
      ]
    },
    {
      "cell_type": "code",
      "execution_count": null,
      "metadata": {
        "colab": {
          "base_uri": "https://localhost:8080/"
        },
        "id": "TJC45WRg0pOP",
        "outputId": "cd01fbfd-6529-4213-e8ae-b3bcf367bd7d"
      },
      "outputs": [
        {
          "output_type": "stream",
          "name": "stdout",
          "text": [
            "Accuracy after augmentation shear: 0.0 angle: 0.0 is 63.32 %\n",
            "Accuracy after augmentation shear: 0.0 angle: 10.0 is 59.419999999999995 %\n",
            "Accuracy after augmentation shear: 0.0 angle: 20.0 is 58.19 %\n",
            "Accuracy after augmentation shear: 0.0 angle: 30.0 is 62.35000000000001 %\n",
            "Accuracy after augmentation shear: 0.0 angle: 40.0 is 60.89 %\n",
            "Accuracy after augmentation shear: 0.0 angle: 50.0 is 57.620000000000005 %\n",
            "Accuracy after augmentation shear: 0.0 angle: 60.0 is 60.629999999999995 %\n",
            "Accuracy after augmentation shear: 0.2 angle: 0.0 is 63.41 %\n",
            "Accuracy after augmentation shear: 0.2 angle: 10.0 is 59.419999999999995 %\n",
            "Accuracy after augmentation shear: 0.2 angle: 20.0 is 59.19 %\n",
            "Accuracy after augmentation shear: 0.2 angle: 30.0 is 58.209999999999994 %\n",
            "Accuracy after augmentation shear: 0.2 angle: 40.0 is 61.12 %\n",
            "Accuracy after augmentation shear: 0.2 angle: 50.0 is 58.209999999999994 %\n",
            "Accuracy after augmentation shear: 0.2 angle: 60.0 is 60.91 %\n",
            "Accuracy after augmentation shear: 0.4 angle: 0.0 is 63.370000000000005 %\n",
            "Accuracy after augmentation shear: 0.4 angle: 10.0 is 61.160000000000004 %\n",
            "Accuracy after augmentation shear: 0.4 angle: 20.0 is 58.01 %\n",
            "Accuracy after augmentation shear: 0.4 angle: 30.0 is 57.53 %\n",
            "Accuracy after augmentation shear: 0.4 angle: 40.0 is 60.86 %\n",
            "Accuracy after augmentation shear: 0.4 angle: 50.0 is 58.67 %\n",
            "Accuracy after augmentation shear: 0.4 angle: 60.0 is 59.08 %\n",
            "Accuracy after augmentation shear: 0.6 angle: 0.0 is 63.3 %\n",
            "Accuracy after augmentation shear: 0.6 angle: 10.0 is 60.27 %\n",
            "Accuracy after augmentation shear: 0.6 angle: 20.0 is 62.39 %\n",
            "Accuracy after augmentation shear: 0.6 angle: 30.0 is 59.37 %\n",
            "Accuracy after augmentation shear: 0.6 angle: 40.0 is 60.040000000000006 %\n",
            "Accuracy after augmentation shear: 0.6 angle: 50.0 is 60.31999999999999 %\n",
            "Accuracy after augmentation shear: 0.6 angle: 60.0 is 62.019999999999996 %\n",
            "Accuracy after augmentation shear: 0.8 angle: 0.0 is 63.4 %\n",
            "Accuracy after augmentation shear: 0.8 angle: 10.0 is 60.23 %\n",
            "Accuracy after augmentation shear: 0.8 angle: 20.0 is 59.919999999999995 %\n",
            "Accuracy after augmentation shear: 0.8 angle: 30.0 is 58.85 %\n",
            "Accuracy after augmentation shear: 0.8 angle: 40.0 is 59.89 %\n",
            "Accuracy after augmentation shear: 0.8 angle: 50.0 is 60.129999999999995 %\n",
            "Accuracy after augmentation shear: 0.8 angle: 60.0 is 62.050000000000004 %\n",
            "Accuracy after augmentation shear: 1.0 angle: 0.0 is 63.36000000000001 %\n",
            "Accuracy after augmentation shear: 1.0 angle: 10.0 is 61.08 %\n",
            "Accuracy after augmentation shear: 1.0 angle: 20.0 is 58.919999999999995 %\n",
            "Accuracy after augmentation shear: 1.0 angle: 30.0 is 60.56 %\n",
            "Accuracy after augmentation shear: 1.0 angle: 40.0 is 59.13 %\n",
            "Accuracy after augmentation shear: 1.0 angle: 50.0 is 58.91 %\n",
            "Accuracy after augmentation shear: 1.0 angle: 60.0 is 59.489999999999995 %\n",
            "Accuracy after augmentation shear: 1.2 angle: 0.0 is 63.480000000000004 %\n",
            "Accuracy after augmentation shear: 1.2 angle: 10.0 is 56.97 %\n",
            "Accuracy after augmentation shear: 1.2 angle: 20.0 is 60.709999999999994 %\n",
            "Accuracy after augmentation shear: 1.2 angle: 30.0 is 59.489999999999995 %\n",
            "Accuracy after augmentation shear: 1.2 angle: 40.0 is 58.79 %\n",
            "Accuracy after augmentation shear: 1.2 angle: 50.0 is 60.07 %\n",
            "Accuracy after augmentation shear: 1.2 angle: 60.0 is 61.160000000000004 %\n",
            "Accuracy after augmentation shear: 1.4 angle: 0.0 is 63.57000000000001 %\n",
            "Accuracy after augmentation shear: 1.4 angle: 10.0 is 59.95 %\n",
            "Accuracy after augmentation shear: 1.4 angle: 20.0 is 59.550000000000004 %\n",
            "Accuracy after augmentation shear: 1.4 angle: 30.0 is 60.06 %\n",
            "Accuracy after augmentation shear: 1.4 angle: 40.0 is 60.08 %\n",
            "Accuracy after augmentation shear: 1.4 angle: 50.0 is 60.39 %\n",
            "Accuracy after augmentation shear: 1.4 angle: 60.0 is 59.489999999999995 %\n",
            "Accuracy after augmentation shear: 1.6 angle: 0.0 is 63.32 %\n",
            "Accuracy after augmentation shear: 1.6 angle: 10.0 is 59.12 %\n",
            "Accuracy after augmentation shear: 1.6 angle: 20.0 is 59.8 %\n",
            "Accuracy after augmentation shear: 1.6 angle: 30.0 is 58.08 %\n",
            "Accuracy after augmentation shear: 1.6 angle: 40.0 is 61.73 %\n",
            "Accuracy after augmentation shear: 1.6 angle: 50.0 is 59.489999999999995 %\n",
            "Accuracy after augmentation shear: 1.6 angle: 60.0 is 60.309999999999995 %\n"
          ]
        }
      ],
      "source": [
        "shearconstraints = [\n",
        "    0,\n",
        "    0.2,\n",
        "    0.4,\n",
        "    0.6,\n",
        "    0.8,\n",
        "    1.0,\n",
        "    1.2,\n",
        "    1.4,\n",
        "    1.6,\n",
        "]  # the values we want to test\n",
        "angleconstraints = [0, 10, 20, 30, 40, 50, 60]  # the values we want to test\n",
        "# cartesian product of both\n",
        "hyp = cartesian((shearconstraints, angleconstraints))\n",
        "\n",
        "accuracies = np.zeros(len(hyp), dtype=float)  # we will save the values here\n",
        "\n",
        "for ii in range(len(hyp)):\n",
        "    # create the augmented dataset\n",
        "    augdata = train_X  # we include the original images also in the augmented dataset\n",
        "    auglabel = train_y\n",
        "    for jj in range(naugmentations):\n",
        "        augdata = np.concatenate(\n",
        "            (augdata, augRotateShear(train_X, hyp[ii][0], hyp[ii][1]))\n",
        "        )  # concatenate the augmented data to the set\n",
        "        auglabel = np.concatenate(\n",
        "            (auglabel, train_y)\n",
        "        )  # the labels don't change when we augment\n",
        "\n",
        "    # check the test accuracy\n",
        "    testpred = NN(augdata, auglabel, test_X)\n",
        "    accuracies[ii] = Accuracy(test_y, testpred)\n",
        "    print(\n",
        "        \"Accuracy after augmentation shear:\",\n",
        "        hyp[ii][0],\n",
        "        \"angle:\",\n",
        "        hyp[ii][1],\n",
        "        \"is\",\n",
        "        accuracies[ii]*100,\n",
        "        \"%\",\n",
        "        flush=True,\n",
        "    )"
      ]
    },
    {
      "cell_type": "markdown",
      "metadata": {
        "id": "PT6CnvSDEX7a"
      },
      "source": [
        "Let us plot it two dimensionally to see which is the best value for the hyperparameters:"
      ]
    },
    {
      "cell_type": "code",
      "execution_count": null,
      "metadata": {
        "colab": {
          "base_uri": "https://localhost:8080/",
          "height": 482
        },
        "id": "jD2i7msI_cLd",
        "outputId": "d1dca4f4-a7de-48fc-da07-d91402c3691e"
      },
      "outputs": [
        {
          "output_type": "execute_result",
          "data": {
            "text/plain": [
              "<matplotlib.colorbar.Colorbar at 0x7a5b38ae4370>"
            ]
          },
          "metadata": {},
          "execution_count": 18
        },
        {
          "output_type": "display_data",
          "data": {
            "text/plain": [
              "<Figure size 640x480 with 2 Axes>"
            ],
            "image/png": "[encoded data removed]"
          },
          "metadata": {}
        }
      ],
      "source": [
        "fig = plt.figure()\n",
        "ax = fig.add_axes([0.1, 0.1, 0.8, 0.8])\n",
        "im = ax.imshow(\n",
        "    accuracies.reshape((len(shearconstraints), len(angleconstraints))), cmap=\"hot\"\n",
        ")\n",
        "ax.set_xlabel(\"Angle\")\n",
        "ax.set_ylabel(\"Shear\")\n",
        "ax.set_xticks(np.arange(len(angleconstraints)))\n",
        "ax.set_xticklabels(angleconstraints)\n",
        "ax.set_yticks(np.arange(len(shearconstraints)))\n",
        "ax.set_yticklabels(shearconstraints)\n",
        "plt.colorbar(im)"
      ]
    },
    {
      "cell_type": "markdown",
      "metadata": {
        "id": "OHcZWJiFJDMh"
      },
      "source": [
        "It seems that rotation and shear don't mix! The best accuracy is when rotation is zero."
      ]
    },
    {
      "cell_type": "markdown",
      "metadata": {
        "id": "PAasQo1C3x4A"
      },
      "source": [
        "## Questions\n",
        "Try these questions for better understanding. You may not be able to solve all of them.\n",
        "1. What is the best value for angle constraint and shear constraint you got? How much did the accuracy improve as compared to not using augmentations?\n",
        "2. Can you increase the accuracy by increasing the number of augmentations from each sample?\n",
        "3. Try implementing a few augmentations of your own and experimenting with them. A good reference is <a href=https://www.analyticsvidhya.com/blog/2019/12/image-augmentation-deep-learning-pytorch/>here. </a>\n",
        "4. Try combining various augmentations. What is the highest accuracy you can get? What is the smallest training dataset you can take and still get accuracy above 50%?\n",
        "\n",
        "Whenever you do any experiment, a good practice is to vary the hyperparameters gradually and create a graph of your results, like we did for gridsearch."
      ]
    },
    {
      "cell_type": "markdown",
      "source": [
        "Try combining various augmentations. What is the highest accuracy you can get? What is the smallest training dataset you can take and still get accuracy above 50%?"
      ],
      "metadata": {
        "id": "8PZj5nzfg8qM"
      }
    },
    {
      "cell_type": "code",
      "source": [
        "import numpy as np\n",
        "import tensorflow as tf\n",
        "import matplotlib.pyplot as plt\n",
        "from tensorflow.keras import layers, models\n",
        "from tensorflow.keras.preprocessing.image import apply_affine_transform\n",
        "from skimage.transform import rotate, AffineTransform, warp\n",
        "from sklearn.model_selection import train_test_split\n",
        "\n",
        "# Example dataset (replace this with actual data)\n",
        "train_X = np.random.rand(100, 28, 28, 1)  # Example 100 training images of size 28x28 (grayscale)\n",
        "train_y = np.random.randint(0, 10, size=(100,))  # 100 labels (for 10 classes)\n",
        "test_X = np.random.rand(20, 28, 28, 1)  # Example 20 test images of size 28x28\n",
        "test_y = np.random.randint(0, 10, size=(20,))  # 20 test labels (for 10 classes)\n",
        "\n",
        "# Helper function to visualize augmentations\n",
        "def plot_images(images, labels, n_images=5):\n",
        "    plt.figure(figsize=(15, 15))\n",
        "    for i in range(n_images):\n",
        "        plt.subplot(1, n_images, i+1)\n",
        "        plt.imshow(images[i].squeeze(), cmap='gray')\n",
        "        plt.title(f'Label: {labels[i]}')\n",
        "        plt.axis('off')\n",
        "    plt.show()\n",
        "\n",
        "# Augmentation functions\n",
        "def shear_augmentation(image, shear_value):\n",
        "    \"\"\"Apply shear transformation to the image using apply_affine_transform\"\"\"\n",
        "    image_squeezed = image.squeeze()  # Remove the channel dimension for the transformation\n",
        "    image_sheared = apply_affine_transform(image_squeezed, shear=shear_value)\n",
        "    return np.expand_dims(image_sheared, axis=-1)  # Add the channel dimension back\n",
        "\n",
        "def rotate_augmentation(image, angle):\n",
        "    \"\"\"Rotate image by a given angle\"\"\"\n",
        "    return tf.image.rot90(image, k=angle // 90)  # Rotates 90, 180, or 270 degrees\n",
        "\n",
        "def flip_augmentation(image):\n",
        "    \"\"\"Randomly flip the image horizontally and vertically\"\"\"\n",
        "    image = tf.image.random_flip_left_right(image)\n",
        "    image = tf.image.random_flip_up_down(image)\n",
        "    return image\n",
        "\n",
        "def zoom_augmentation(image, zoom_range=0.2):\n",
        "    \"\"\"Randomly zoom into the image\"\"\"\n",
        "    height = image.shape[0]\n",
        "    width = image.shape[1]\n",
        "    target_height = int(height * (1 + zoom_range))\n",
        "    target_width = int(width * (1 + zoom_range))\n",
        "    return tf.image.resize_with_crop_or_pad(image, target_height=target_height, target_width=target_width)\n",
        "\n",
        "def brightness_augmentation(image, max_delta=0.1):\n",
        "    \"\"\"Randomly adjust the brightness of the image\"\"\"\n",
        "    image = tf.image.random_brightness(image, max_delta)\n",
        "    return image\n",
        "\n",
        "def contrast_augmentation(image, lower=0.7, upper=1.3):\n",
        "    \"\"\"Randomly adjust the contrast of the image\"\"\"\n",
        "    image = tf.image.random_contrast(image, lower, upper)\n",
        "    return image\n",
        "\n",
        "def crop_augmentation(image, target_height=24, target_width=24):\n",
        "    \"\"\"Randomly crop the image to the given size\"\"\"\n",
        "    image = tf.image.random_crop(image, size=[target_height, target_width, 1])\n",
        "    return image\n",
        "\n",
        "# Create a random set of augmentations on a sample\n",
        "def apply_augmentations(images, shear_value=0.2, rotation_angle=45, zoom_range=0.2, apply_flip=True):\n",
        "    \"\"\"Applies a series of augmentations to a set of images.\"\"\"\n",
        "    augmented_images = []\n",
        "    for img in images:\n",
        "        # Ensure the image has 3 dimensions (height, width, channels)\n",
        "        if img.ndim == 2:\n",
        "            img = np.expand_dims(img, axis=-1)  # Add a channel dimension\n",
        "\n",
        "        img = np.repeat(img, 3, axis=-1)  # Convert grayscale to fake 3-channel image\n",
        "\n",
        "        img = shear_augmentation(img, shear_value)\n",
        "        img = rotate_augmentation(img, rotation_angle)\n",
        "        if apply_flip:\n",
        "            img = flip_augmentation(img)\n",
        "        img = zoom_augmentation(img, zoom_range)\n",
        "        img = brightness_augmentation(img)\n",
        "        img = contrast_augmentation(img)\n",
        "        img = crop_augmentation(img)\n",
        "\n",
        "        img = img.numpy().squeeze()  # Convert tensor to NumPy and remove extra dimensions\n",
        "\n",
        "        augmented_images.append(img)\n",
        "\n",
        "    return np.array(augmented_images)\n",
        "\n",
        "# Model definition\n",
        "def create_model(input_shape=(28, 28, 1)):\n",
        "    model = models.Sequential([\n",
        "        layers.Conv2D(32, (3, 3), activation='relu', input_shape=input_shape),\n",
        "        layers.MaxPooling2D((2, 2)),\n",
        "        layers.Conv2D(64, (3, 3), activation='relu'),\n",
        "        layers.MaxPooling2D((2, 2)),\n",
        "        layers.Conv2D(64, (3, 3), activation='relu'),\n",
        "        layers.Flatten(),\n",
        "        layers.Dense(64, activation='relu'),\n",
        "        layers.Dense(10, activation='softmax')  # 10 classes\n",
        "    ])\n",
        "    model.compile(optimizer='adam', loss='sparse_categorical_crossentropy', metrics=['accuracy'])\n",
        "    return model\n",
        "\n",
        "# Function to train and evaluate on a small dataset\n",
        "def train_and_evaluate(dataset_size=50):\n",
        "    # Train on a subset of the dataset\n",
        "    subset_X = train_X[:dataset_size]\n",
        "    subset_y = train_y[:dataset_size]\n",
        "\n",
        "    augmented_train_X = apply_augmentations(subset_X)  # Apply augmentations\n",
        "\n",
        "    # Normalize the images to the range [0, 1]\n",
        "    augmented_train_X = augmented_train_X / 255.0\n",
        "    subset_X = subset_X / 255.0\n",
        "    test_X = test_X / 255.0\n",
        "\n",
        "    # Train the model\n",
        "    model = create_model(input_shape=(28, 28, 1))\n",
        "    model.fit(augmented_train_X, subset_y, epochs=10, validation_data=(test_X, test_y), batch_size=32, verbose=1)\n",
        "\n",
        "    # Evaluate the model\n",
        "    test_loss, test_accuracy = model.evaluate(test_X, test_y, verbose=0)\n",
        "    return test_accuracy\n",
        "\n",
        "# Experiment with different da\n"
      ],
      "metadata": {
        "id": "UwNIPrsqg9tD"
      },
      "execution_count": null,
      "outputs": []
    },
    {
      "cell_type": "markdown",
      "source": [
        "Try implementing a few augmentations of your own and experimenting with them. A good reference is here."
      ],
      "metadata": {
        "id": "zp0BbDQgWiCs"
      }
    },
    {
      "cell_type": "code",
      "source": [],
      "metadata": {
        "id": "4aiaD7o0da0L"
      },
      "execution_count": null,
      "outputs": []
    },
    {
      "cell_type": "code",
      "source": [
        "import numpy as np\n",
        "import tensorflow as tf\n",
        "import matplotlib.pyplot as plt\n",
        "from tensorflow.keras.preprocessing.image import apply_affine_transform\n",
        "from skimage.transform import rotate, AffineTransform, warp\n",
        "\n",
        "# ... (other functions remain the same)\n",
        "\n",
        "def crop_augmentation(image, target_height=24, target_width=24):\n",
        "    \"\"\"Randomly crop the image to the given size\"\"\"\n",
        "    # Get the number of channels dynamically from the image shape\n",
        "    num_channels = image.shape[-1]\n",
        "\n",
        "    # The size argument should match the image shape (height, width, channels)\n",
        "    image = tf.image.random_crop(image, size=[target_height, target_width, num_channels])\n",
        "    return image\n",
        "\n",
        "def apply_augmentations(images, shear_value=0.2, rotation_angle=45, zoom_range=0.2, apply_flip=True):\n",
        "    \"\"\"Applies a series of augmentations to a set of images.\"\"\"\n",
        "    augmented_images = []\n",
        "    for img in images:\n",
        "        # Check if image has channels dimension. If not, add it.\n",
        "        if img.ndim == 2:  # Grayscale image without a channel dimension\n",
        "            img = np.expand_dims(img, axis=-1) # Adding a channel dimension\n",
        "        if img.shape[-1] == 1:  # Grayscale with a single channel\n",
        "            img = np.repeat(img, 3, axis=-1)  # Convert grayscale to fake 3-channel image\n",
        "        # ... (rest of the augmentation steps)\n",
        "\n"
      ],
      "metadata": {
        "id": "5W0S5RYJWjGb"
      },
      "execution_count": null,
      "outputs": []
    },
    {
      "cell_type": "markdown",
      "source": [
        "2.can you increase the accuracy by increasing the number of augmentations from each sample?"
      ],
      "metadata": {
        "id": "YrTQJ_gmWIfU"
      }
    },
    {
      "cell_type": "code",
      "source": [
        "import numpy as np\n",
        "\n",
        "# Example dataset (replace this with actual data)\n",
        "train_X = np.random.rand(100, 28, 28)  # 100 training images of size 28x28\n",
        "train_y = np.random.randint(0, 10, size=(100,))  # 100 labels (for 10 classes)\n",
        "test_X = np.random.rand(20, 28, 28)  # 20 test images of size 28x28\n",
        "test_y = np.random.randint(0, 10, size=(20,))  # 20 test labels (for 10 classes)\n",
        "\n",
        "# Example augmentation functions (replace these with actual functions)\n",
        "def augShear(images, shear_value):\n",
        "    # Implement your shear augmentation function here\n",
        "    return images  # For now, just return the same images (no transformation)\n",
        "\n",
        "def augRotate(images, angle_value):\n",
        "    # Implement your angle augmentation function here\n",
        "    return images  # For now, just return the same images (no transformation)\n",
        "\n",
        "# Placeholder NN function (replace this with your model inference function)\n",
        "def NN(augdata, auglabel, test_X):\n",
        "    return np.random.randint(0, 10, size=test_X.shape[0])  # Random predictions for now\n",
        "\n",
        "# Accuracy function (implement your actual accuracy calculation)\n",
        "def Accuracy(true_labels, predicted_labels):\n",
        "    return np.mean(true_labels == predicted_labels)\n",
        "\n",
        "# Augmentation settings\n",
        "shearconstraints = [0, 0.2, 0.4, 0.6, 0.8, 1.0, 1.2, 1.4, 1.6, 1.8, 2.0]\n",
        "angleconstraints = [0, 15, 30, 45, 60, 75, 90]  # Angle constraints for rotation\n",
        "\n",
        "# Experiment with different numbers of augmentations\n",
        "naugmentations_values = [5, 10, 15]  # Increase number of augmentations (you can adjust this list)\n",
        "\n",
        "# Store the results for each shear and angle constraint and number of augmentations\n",
        "accuracies = np.zeros((len(shearconstraints), len(angleconstraints), len(naugmentations_values)), dtype=float)\n",
        "\n",
        "# Train and evaluate with augmentations\n",
        "for ai, angle in enumerate(angleconstraints):\n",
        "    for si, shear in enumerate(shearconstraints):\n",
        "        for na_idx, naugmentations in enumerate(naugmentations_values):\n",
        "            # Augment the dataset\n",
        "            augdata = train_X  # Start with the original dataset\n",
        "            auglabel = train_y\n",
        "\n",
        "            # Apply shear augmentations\n",
        "            for _ in range(naugmentations):\n",
        "                augdata = np.concatenate((augdata, augShear(train_X, shear)))\n",
        "                auglabel = np.concatenate((auglabel, train_y))\n",
        "\n",
        "            # Apply angle augmentations\n",
        "            for _ in range(naugmentations):\n",
        "                augdata = np.concatenate((augdata, augRotate(train_X, angle)))\n",
        "                auglabel = np.concatenate((auglabel, train_y))\n",
        "\n",
        "            # Check accuracy on test set\n",
        "            testpred = NN(augdata, auglabel, test_X)\n",
        "            accuracies[si, ai, na_idx] = Accuracy(test_y, testpred)\n",
        "            print(f\"Accuracy with shear {shear}, angle {angle}, and {naugmentations} augmentations: {accuracies[si, ai, na_idx] * 100:.2f}%\")\n",
        "\n",
        "# Find the best shear, angle, and number of augmentations based on accuracy\n",
        "best_shear_idx, best_angle_idx, best_na_idx = np.unravel_index(np.argmax(accuracies), accuracies.shape)\n",
        "best_shear = shearconstraints[best_shear_idx]\n",
        "best_angle = angleconstraints[best_angle_idx]\n",
        "best_naugmentations = naugmentations_values[best_na_idx]\n",
        "best_accuracy = accuracies[best_shear_idx, best_angle_idx, best_na_idx]\n",
        "\n",
        "print(f\"Best shear constraint: {best_shear}\")\n",
        "print(f\"Best angle constraint: {best_angle}\")\n",
        "print(f\"Best number of augmentations: {best_naugmentations}\")\n",
        "print(f\"Best accuracy: {best_accuracy * 100:.2f}%\")\n",
        "\n",
        "# Baseline accuracy (without augmentations)\n",
        "baseline_pred = NN(train_X, train_y, test_X)\n",
        "baseline_accuracy = Accuracy(test_y, baseline_pred)\n",
        "print(f\"Baseline accuracy without augmentations: {baseline_accuracy * 100:.2f}%\")\n",
        "\n",
        "# Calculate accuracy improvement\n",
        "improvement = (best_accuracy - baseline_accuracy) * 100\n",
        "print(f\"Accuracy improvement with augmentations: {improvement:.2f}%\")\n"
      ],
      "metadata": {
        "id": "d9zjm6CCWLjj",
        "outputId": "a04a6e70-3a35-4418-adbd-7b7a866907b5",
        "colab": {
          "base_uri": "https://localhost:8080/"
        }
      },
      "execution_count": null,
      "outputs": [
        {
          "output_type": "stream",
          "name": "stdout",
          "text": [
            "Accuracy with shear 0, angle 0, and 5 augmentations: 20.00%\n",
            "Accuracy with shear 0, angle 0, and 10 augmentations: 10.00%\n",
            "Accuracy with shear 0, angle 0, and 15 augmentations: 25.00%\n",
            "Accuracy with shear 0.2, angle 0, and 5 augmentations: 10.00%\n",
            "Accuracy with shear 0.2, angle 0, and 10 augmentations: 30.00%\n",
            "Accuracy with shear 0.2, angle 0, and 15 augmentations: 5.00%\n",
            "Accuracy with shear 0.4, angle 0, and 5 augmentations: 20.00%\n",
            "Accuracy with shear 0.4, angle 0, and 10 augmentations: 10.00%\n",
            "Accuracy with shear 0.4, angle 0, and 15 augmentations: 10.00%\n",
            "Accuracy with shear 0.6, angle 0, and 5 augmentations: 5.00%\n",
            "Accuracy with shear 0.6, angle 0, and 10 augmentations: 5.00%\n",
            "Accuracy with shear 0.6, angle 0, and 15 augmentations: 20.00%\n",
            "Accuracy with shear 0.8, angle 0, and 5 augmentations: 5.00%\n",
            "Accuracy with shear 0.8, angle 0, and 10 augmentations: 15.00%\n",
            "Accuracy with shear 0.8, angle 0, and 15 augmentations: 0.00%\n",
            "Accuracy with shear 1.0, angle 0, and 5 augmentations: 5.00%\n",
            "Accuracy with shear 1.0, angle 0, and 10 augmentations: 0.00%\n",
            "Accuracy with shear 1.0, angle 0, and 15 augmentations: 20.00%\n",
            "Accuracy with shear 1.2, angle 0, and 5 augmentations: 15.00%\n",
            "Accuracy with shear 1.2, angle 0, and 10 augmentations: 15.00%\n",
            "Accuracy with shear 1.2, angle 0, and 15 augmentations: 5.00%\n",
            "Accuracy with shear 1.4, angle 0, and 5 augmentations: 10.00%\n",
            "Accuracy with shear 1.4, angle 0, and 10 augmentations: 10.00%\n",
            "Accuracy with shear 1.4, angle 0, and 15 augmentations: 10.00%\n",
            "Accuracy with shear 1.6, angle 0, and 5 augmentations: 10.00%\n",
            "Accuracy with shear 1.6, angle 0, and 10 augmentations: 10.00%\n",
            "Accuracy with shear 1.6, angle 0, and 15 augmentations: 5.00%\n",
            "Accuracy with shear 1.8, angle 0, and 5 augmentations: 20.00%\n",
            "Accuracy with shear 1.8, angle 0, and 10 augmentations: 15.00%\n",
            "Accuracy with shear 1.8, angle 0, and 15 augmentations: 0.00%\n",
            "Accuracy with shear 2.0, angle 0, and 5 augmentations: 20.00%\n",
            "Accuracy with shear 2.0, angle 0, and 10 augmentations: 5.00%\n",
            "Accuracy with shear 2.0, angle 0, and 15 augmentations: 10.00%\n",
            "Accuracy with shear 0, angle 15, and 5 augmentations: 15.00%\n",
            "Accuracy with shear 0, angle 15, and 10 augmentations: 0.00%\n",
            "Accuracy with shear 0, angle 15, and 15 augmentations: 10.00%\n",
            "Accuracy with shear 0.2, angle 15, and 5 augmentations: 5.00%\n",
            "Accuracy with shear 0.2, angle 15, and 10 augmentations: 0.00%\n",
            "Accuracy with shear 0.2, angle 15, and 15 augmentations: 15.00%\n",
            "Accuracy with shear 0.4, angle 15, and 5 augmentations: 10.00%\n",
            "Accuracy with shear 0.4, angle 15, and 10 augmentations: 15.00%\n",
            "Accuracy with shear 0.4, angle 15, and 15 augmentations: 5.00%\n",
            "Accuracy with shear 0.6, angle 15, and 5 augmentations: 15.00%\n",
            "Accuracy with shear 0.6, angle 15, and 10 augmentations: 5.00%\n",
            "Accuracy with shear 0.6, angle 15, and 15 augmentations: 5.00%\n",
            "Accuracy with shear 0.8, angle 15, and 5 augmentations: 20.00%\n",
            "Accuracy with shear 0.8, angle 15, and 10 augmentations: 10.00%\n",
            "Accuracy with shear 0.8, angle 15, and 15 augmentations: 5.00%\n",
            "Accuracy with shear 1.0, angle 15, and 5 augmentations: 10.00%\n",
            "Accuracy with shear 1.0, angle 15, and 10 augmentations: 10.00%\n",
            "Accuracy with shear 1.0, angle 15, and 15 augmentations: 10.00%\n",
            "Accuracy with shear 1.2, angle 15, and 5 augmentations: 5.00%\n",
            "Accuracy with shear 1.2, angle 15, and 10 augmentations: 15.00%\n",
            "Accuracy with shear 1.2, angle 15, and 15 augmentations: 15.00%\n",
            "Accuracy with shear 1.4, angle 15, and 5 augmentations: 5.00%\n",
            "Accuracy with shear 1.4, angle 15, and 10 augmentations: 20.00%\n",
            "Accuracy with shear 1.4, angle 15, and 15 augmentations: 5.00%\n",
            "Accuracy with shear 1.6, angle 15, and 5 augmentations: 10.00%\n",
            "Accuracy with shear 1.6, angle 15, and 10 augmentations: 5.00%\n",
            "Accuracy with shear 1.6, angle 15, and 15 augmentations: 15.00%\n",
            "Accuracy with shear 1.8, angle 15, and 5 augmentations: 15.00%\n",
            "Accuracy with shear 1.8, angle 15, and 10 augmentations: 10.00%\n",
            "Accuracy with shear 1.8, angle 15, and 15 augmentations: 10.00%\n",
            "Accuracy with shear 2.0, angle 15, and 5 augmentations: 15.00%\n",
            "Accuracy with shear 2.0, angle 15, and 10 augmentations: 10.00%\n",
            "Accuracy with shear 2.0, angle 15, and 15 augmentations: 10.00%\n",
            "Accuracy with shear 0, angle 30, and 5 augmentations: 15.00%\n",
            "Accuracy with shear 0, angle 30, and 10 augmentations: 15.00%\n",
            "Accuracy with shear 0, angle 30, and 15 augmentations: 0.00%\n",
            "Accuracy with shear 0.2, angle 30, and 5 augmentations: 10.00%\n",
            "Accuracy with shear 0.2, angle 30, and 10 augmentations: 10.00%\n",
            "Accuracy with shear 0.2, angle 30, and 15 augmentations: 5.00%\n",
            "Accuracy with shear 0.4, angle 30, and 5 augmentations: 10.00%\n",
            "Accuracy with shear 0.4, angle 30, and 10 augmentations: 20.00%\n",
            "Accuracy with shear 0.4, angle 30, and 15 augmentations: 20.00%\n",
            "Accuracy with shear 0.6, angle 30, and 5 augmentations: 5.00%\n",
            "Accuracy with shear 0.6, angle 30, and 10 augmentations: 15.00%\n",
            "Accuracy with shear 0.6, angle 30, and 15 augmentations: 20.00%\n",
            "Accuracy with shear 0.8, angle 30, and 5 augmentations: 15.00%\n",
            "Accuracy with shear 0.8, angle 30, and 10 augmentations: 5.00%\n",
            "Accuracy with shear 0.8, angle 30, and 15 augmentations: 10.00%\n",
            "Accuracy with shear 1.0, angle 30, and 5 augmentations: 10.00%\n",
            "Accuracy with shear 1.0, angle 30, and 10 augmentations: 10.00%\n",
            "Accuracy with shear 1.0, angle 30, and 15 augmentations: 0.00%\n",
            "Accuracy with shear 1.2, angle 30, and 5 augmentations: 15.00%\n",
            "Accuracy with shear 1.2, angle 30, and 10 augmentations: 0.00%\n",
            "Accuracy with shear 1.2, angle 30, and 15 augmentations: 5.00%\n",
            "Accuracy with shear 1.4, angle 30, and 5 augmentations: 15.00%\n",
            "Accuracy with shear 1.4, angle 30, and 10 augmentations: 20.00%\n",
            "Accuracy with shear 1.4, angle 30, and 15 augmentations: 5.00%\n",
            "Accuracy with shear 1.6, angle 30, and 5 augmentations: 5.00%\n",
            "Accuracy with shear 1.6, angle 30, and 10 augmentations: 0.00%\n",
            "Accuracy with shear 1.6, angle 30, and 15 augmentations: 0.00%\n",
            "Accuracy with shear 1.8, angle 30, and 5 augmentations: 10.00%\n",
            "Accuracy with shear 1.8, angle 30, and 10 augmentations: 10.00%\n",
            "Accuracy with shear 1.8, angle 30, and 15 augmentations: 15.00%\n",
            "Accuracy with shear 2.0, angle 30, and 5 augmentations: 0.00%\n",
            "Accuracy with shear 2.0, angle 30, and 10 augmentations: 10.00%\n",
            "Accuracy with shear 2.0, angle 30, and 15 augmentations: 5.00%\n",
            "Accuracy with shear 0, angle 45, and 5 augmentations: 15.00%\n",
            "Accuracy with shear 0, angle 45, and 10 augmentations: 5.00%\n",
            "Accuracy with shear 0, angle 45, and 15 augmentations: 10.00%\n",
            "Accuracy with shear 0.2, angle 45, and 5 augmentations: 0.00%\n",
            "Accuracy with shear 0.2, angle 45, and 10 augmentations: 10.00%\n",
            "Accuracy with shear 0.2, angle 45, and 15 augmentations: 10.00%\n",
            "Accuracy with shear 0.4, angle 45, and 5 augmentations: 5.00%\n",
            "Accuracy with shear 0.4, angle 45, and 10 augmentations: 15.00%\n",
            "Accuracy with shear 0.4, angle 45, and 15 augmentations: 15.00%\n",
            "Accuracy with shear 0.6, angle 45, and 5 augmentations: 10.00%\n",
            "Accuracy with shear 0.6, angle 45, and 10 augmentations: 0.00%\n",
            "Accuracy with shear 0.6, angle 45, and 15 augmentations: 15.00%\n",
            "Accuracy with shear 0.8, angle 45, and 5 augmentations: 0.00%\n",
            "Accuracy with shear 0.8, angle 45, and 10 augmentations: 15.00%\n",
            "Accuracy with shear 0.8, angle 45, and 15 augmentations: 25.00%\n",
            "Accuracy with shear 1.0, angle 45, and 5 augmentations: 20.00%\n",
            "Accuracy with shear 1.0, angle 45, and 10 augmentations: 20.00%\n",
            "Accuracy with shear 1.0, angle 45, and 15 augmentations: 5.00%\n",
            "Accuracy with shear 1.2, angle 45, and 5 augmentations: 5.00%\n",
            "Accuracy with shear 1.2, angle 45, and 10 augmentations: 15.00%\n",
            "Accuracy with shear 1.2, angle 45, and 15 augmentations: 0.00%\n",
            "Accuracy with shear 1.4, angle 45, and 5 augmentations: 0.00%\n",
            "Accuracy with shear 1.4, angle 45, and 10 augmentations: 10.00%\n",
            "Accuracy with shear 1.4, angle 45, and 15 augmentations: 0.00%\n",
            "Accuracy with shear 1.6, angle 45, and 5 augmentations: 0.00%\n",
            "Accuracy with shear 1.6, angle 45, and 10 augmentations: 10.00%\n",
            "Accuracy with shear 1.6, angle 45, and 15 augmentations: 0.00%\n",
            "Accuracy with shear 1.8, angle 45, and 5 augmentations: 5.00%\n",
            "Accuracy with shear 1.8, angle 45, and 10 augmentations: 25.00%\n",
            "Accuracy with shear 1.8, angle 45, and 15 augmentations: 0.00%\n",
            "Accuracy with shear 2.0, angle 45, and 5 augmentations: 0.00%\n",
            "Accuracy with shear 2.0, angle 45, and 10 augmentations: 10.00%\n",
            "Accuracy with shear 2.0, angle 45, and 15 augmentations: 5.00%\n",
            "Accuracy with shear 0, angle 60, and 5 augmentations: 10.00%\n",
            "Accuracy with shear 0, angle 60, and 10 augmentations: 20.00%\n",
            "Accuracy with shear 0, angle 60, and 15 augmentations: 15.00%\n",
            "Accuracy with shear 0.2, angle 60, and 5 augmentations: 5.00%\n",
            "Accuracy with shear 0.2, angle 60, and 10 augmentations: 15.00%\n",
            "Accuracy with shear 0.2, angle 60, and 15 augmentations: 10.00%\n",
            "Accuracy with shear 0.4, angle 60, and 5 augmentations: 10.00%\n",
            "Accuracy with shear 0.4, angle 60, and 10 augmentations: 10.00%\n",
            "Accuracy with shear 0.4, angle 60, and 15 augmentations: 5.00%\n",
            "Accuracy with shear 0.6, angle 60, and 5 augmentations: 0.00%\n",
            "Accuracy with shear 0.6, angle 60, and 10 augmentations: 10.00%\n",
            "Accuracy with shear 0.6, angle 60, and 15 augmentations: 10.00%\n",
            "Accuracy with shear 0.8, angle 60, and 5 augmentations: 5.00%\n",
            "Accuracy with shear 0.8, angle 60, and 10 augmentations: 5.00%\n",
            "Accuracy with shear 0.8, angle 60, and 15 augmentations: 25.00%\n",
            "Accuracy with shear 1.0, angle 60, and 5 augmentations: 0.00%\n",
            "Accuracy with shear 1.0, angle 60, and 10 augmentations: 15.00%\n",
            "Accuracy with shear 1.0, angle 60, and 15 augmentations: 5.00%\n",
            "Accuracy with shear 1.2, angle 60, and 5 augmentations: 10.00%\n",
            "Accuracy with shear 1.2, angle 60, and 10 augmentations: 10.00%\n",
            "Accuracy with shear 1.2, angle 60, and 15 augmentations: 5.00%\n",
            "Accuracy with shear 1.4, angle 60, and 5 augmentations: 10.00%\n",
            "Accuracy with shear 1.4, angle 60, and 10 augmentations: 10.00%\n",
            "Accuracy with shear 1.4, angle 60, and 15 augmentations: 5.00%\n",
            "Accuracy with shear 1.6, angle 60, and 5 augmentations: 10.00%\n",
            "Accuracy with shear 1.6, angle 60, and 10 augmentations: 5.00%\n",
            "Accuracy with shear 1.6, angle 60, and 15 augmentations: 15.00%\n",
            "Accuracy with shear 1.8, angle 60, and 5 augmentations: 10.00%\n",
            "Accuracy with shear 1.8, angle 60, and 10 augmentations: 5.00%\n",
            "Accuracy with shear 1.8, angle 60, and 15 augmentations: 5.00%\n",
            "Accuracy with shear 2.0, angle 60, and 5 augmentations: 20.00%\n",
            "Accuracy with shear 2.0, angle 60, and 10 augmentations: 0.00%\n",
            "Accuracy with shear 2.0, angle 60, and 15 augmentations: 20.00%\n",
            "Accuracy with shear 0, angle 75, and 5 augmentations: 10.00%\n",
            "Accuracy with shear 0, angle 75, and 10 augmentations: 10.00%\n",
            "Accuracy with shear 0, angle 75, and 15 augmentations: 15.00%\n",
            "Accuracy with shear 0.2, angle 75, and 5 augmentations: 15.00%\n",
            "Accuracy with shear 0.2, angle 75, and 10 augmentations: 0.00%\n",
            "Accuracy with shear 0.2, angle 75, and 15 augmentations: 10.00%\n",
            "Accuracy with shear 0.4, angle 75, and 5 augmentations: 5.00%\n",
            "Accuracy with shear 0.4, angle 75, and 10 augmentations: 10.00%\n",
            "Accuracy with shear 0.4, angle 75, and 15 augmentations: 5.00%\n",
            "Accuracy with shear 0.6, angle 75, and 5 augmentations: 10.00%\n",
            "Accuracy with shear 0.6, angle 75, and 10 augmentations: 15.00%\n",
            "Accuracy with shear 0.6, angle 75, and 15 augmentations: 25.00%\n",
            "Accuracy with shear 0.8, angle 75, and 5 augmentations: 0.00%\n",
            "Accuracy with shear 0.8, angle 75, and 10 augmentations: 0.00%\n",
            "Accuracy with shear 0.8, angle 75, and 15 augmentations: 5.00%\n",
            "Accuracy with shear 1.0, angle 75, and 5 augmentations: 5.00%\n",
            "Accuracy with shear 1.0, angle 75, and 10 augmentations: 10.00%\n",
            "Accuracy with shear 1.0, angle 75, and 15 augmentations: 20.00%\n",
            "Accuracy with shear 1.2, angle 75, and 5 augmentations: 10.00%\n",
            "Accuracy with shear 1.2, angle 75, and 10 augmentations: 0.00%\n",
            "Accuracy with shear 1.2, angle 75, and 15 augmentations: 10.00%\n",
            "Accuracy with shear 1.4, angle 75, and 5 augmentations: 10.00%\n",
            "Accuracy with shear 1.4, angle 75, and 10 augmentations: 0.00%\n",
            "Accuracy with shear 1.4, angle 75, and 15 augmentations: 15.00%\n",
            "Accuracy with shear 1.6, angle 75, and 5 augmentations: 15.00%\n",
            "Accuracy with shear 1.6, angle 75, and 10 augmentations: 15.00%\n",
            "Accuracy with shear 1.6, angle 75, and 15 augmentations: 20.00%\n",
            "Accuracy with shear 1.8, angle 75, and 5 augmentations: 10.00%\n",
            "Accuracy with shear 1.8, angle 75, and 10 augmentations: 10.00%\n",
            "Accuracy with shear 1.8, angle 75, and 15 augmentations: 20.00%\n",
            "Accuracy with shear 2.0, angle 75, and 5 augmentations: 0.00%\n",
            "Accuracy with shear 2.0, angle 75, and 10 augmentations: 0.00%\n",
            "Accuracy with shear 2.0, angle 75, and 15 augmentations: 20.00%\n",
            "Accuracy with shear 0, angle 90, and 5 augmentations: 10.00%\n",
            "Accuracy with shear 0, angle 90, and 10 augmentations: 5.00%\n",
            "Accuracy with shear 0, angle 90, and 15 augmentations: 15.00%\n",
            "Accuracy with shear 0.2, angle 90, and 5 augmentations: 25.00%\n",
            "Accuracy with shear 0.2, angle 90, and 10 augmentations: 5.00%\n",
            "Accuracy with shear 0.2, angle 90, and 15 augmentations: 5.00%\n",
            "Accuracy with shear 0.4, angle 90, and 5 augmentations: 5.00%\n",
            "Accuracy with shear 0.4, angle 90, and 10 augmentations: 0.00%\n",
            "Accuracy with shear 0.4, angle 90, and 15 augmentations: 0.00%\n",
            "Accuracy with shear 0.6, angle 90, and 5 augmentations: 5.00%\n",
            "Accuracy with shear 0.6, angle 90, and 10 augmentations: 5.00%\n",
            "Accuracy with shear 0.6, angle 90, and 15 augmentations: 5.00%\n",
            "Accuracy with shear 0.8, angle 90, and 5 augmentations: 10.00%\n",
            "Accuracy with shear 0.8, angle 90, and 10 augmentations: 10.00%\n",
            "Accuracy with shear 0.8, angle 90, and 15 augmentations: 10.00%\n",
            "Accuracy with shear 1.0, angle 90, and 5 augmentations: 0.00%\n",
            "Accuracy with shear 1.0, angle 90, and 10 augmentations: 0.00%\n",
            "Accuracy with shear 1.0, angle 90, and 15 augmentations: 10.00%\n",
            "Accuracy with shear 1.2, angle 90, and 5 augmentations: 20.00%\n",
            "Accuracy with shear 1.2, angle 90, and 10 augmentations: 5.00%\n",
            "Accuracy with shear 1.2, angle 90, and 15 augmentations: 20.00%\n",
            "Accuracy with shear 1.4, angle 90, and 5 augmentations: 10.00%\n",
            "Accuracy with shear 1.4, angle 90, and 10 augmentations: 30.00%\n",
            "Accuracy with shear 1.4, angle 90, and 15 augmentations: 0.00%\n",
            "Accuracy with shear 1.6, angle 90, and 5 augmentations: 0.00%\n",
            "Accuracy with shear 1.6, angle 90, and 10 augmentations: 15.00%\n",
            "Accuracy with shear 1.6, angle 90, and 15 augmentations: 10.00%\n",
            "Accuracy with shear 1.8, angle 90, and 5 augmentations: 15.00%\n",
            "Accuracy with shear 1.8, angle 90, and 10 augmentations: 0.00%\n",
            "Accuracy with shear 1.8, angle 90, and 15 augmentations: 0.00%\n",
            "Accuracy with shear 2.0, angle 90, and 5 augmentations: 0.00%\n",
            "Accuracy with shear 2.0, angle 90, and 10 augmentations: 20.00%\n",
            "Accuracy with shear 2.0, angle 90, and 15 augmentations: 10.00%\n",
            "Best shear constraint: 0.2\n",
            "Best angle constraint: 0\n",
            "Best number of augmentations: 10\n",
            "Best accuracy: 30.00%\n",
            "Baseline accuracy without augmentations: 5.00%\n",
            "Accuracy improvement with augmentations: 25.00%\n"
          ]
        }
      ]
    },
    {
      "cell_type": "markdown",
      "source": [
        "1.What is the best value for angle constraint and shear constraint you got? How much did the accuracy improve as compared to not using augmentations?"
      ],
      "metadata": {
        "id": "M9ZCWUezVj6P"
      }
    },
    {
      "cell_type": "code",
      "source": [
        "import numpy as np\n",
        "\n",
        "# Example dataset (replace this with actual data)\n",
        "train_X = np.random.rand(100, 28, 28)  # 100 training images of size 28x28\n",
        "train_y = np.random.randint(0, 10, size=(100,))  # 100 labels (for 10 classes)\n",
        "test_X = np.random.rand(20, 28, 28)  # 20 test images of size 28x28\n",
        "test_y = np.random.randint(0, 10, size=(20,))  # 20 test labels (for 10 classes)\n",
        "\n",
        "# Example augmentation functions (replace these with actual functions)\n",
        "def augShear(images, shear_value):\n",
        "    # Implement your shear augmentation function here\n",
        "    return images  # For now, just return the same images (no transformation)\n",
        "\n",
        "def augRotate(images, angle_value):\n",
        "    # Implement your angle augmentation function here\n",
        "    return images  # For now, just return the same images (no transformation)\n",
        "\n",
        "# Placeholder NN function (replace this with your model inference function)\n",
        "def NN(augdata, auglabel, test_X):\n",
        "    return np.random.randint(0, 10, size=test_X.shape[0])  # Random predictions for now\n",
        "\n",
        "# Accuracy function (implement your actual accuracy calculation)\n",
        "def Accuracy(true_labels, predicted_labels):\n",
        "    return np.mean(true_labels == predicted_labels)\n",
        "\n",
        "# Augmentation settings\n",
        "shearconstraints = [0, 0.2, 0.4, 0.6, 0.8, 1.0, 1.2, 1.4, 1.6, 1.8, 2.0]\n",
        "angleconstraints = [0, 15, 30, 45, 60, 75, 90]  # Angle constraints for rotation\n",
        "naugmentations = 5  # Number of augmentations to perform\n",
        "\n",
        "# Store the results for each shear and angle constraint\n",
        "accuracies = np.zeros((len(shearconstraints), len(angleconstraints)), dtype=float)\n",
        "\n",
        "# Train and evaluate with augmentations\n",
        "for si, shear in enumerate(shearconstraints):\n",
        "    for ai, angle in enumerate(angleconstraints):\n",
        "        # Augment the dataset\n",
        "        augdata = train_X  # Start with the original dataset\n",
        "        auglabel = train_y\n",
        "\n",
        "        # Apply shear augmentations\n",
        "        for _ in range(naugmentations):\n",
        "            augdata = np.concatenate((augdata, augShear(train_X, shear)))\n",
        "            auglabel = np.concatenate((auglabel, train_y))\n",
        "\n",
        "        # Apply angle augmentations\n",
        "        for _ in range(naugmentations):\n",
        "            augdata = np.concatenate((augdata, augRotate(train_X, angle)))\n",
        "            auglabel = np.concatenate((auglabel, train_y))\n",
        "\n",
        "        # Check accuracy on test set\n",
        "        testpred = NN(augdata, auglabel, test_X)\n",
        "        accuracies[si, ai] = Accuracy(test_y, testpred)\n",
        "        print(f\"Accuracy with shear {shear} and angle {angle} is {accuracies[si, ai] * 100:.2f}%\")\n",
        "\n",
        "# Find the best shear and angle constraints based on accuracy\n",
        "best_shear_idx, best_angle_idx = np.unravel_index(np.argmax(accuracies), accuracies.shape)\n",
        "best_shear = shearconstraints[best_shear_idx]\n",
        "best_angle = angleconstraints[best_angle_idx]\n",
        "best_accuracy = accuracies[best_shear_idx, best_angle_idx]\n",
        "\n",
        "print(f\"Best shear constraint: {best_shear}\")\n",
        "print(f\"Best angle constraint: {best_angle}\")\n",
        "print(f\"Best accuracy: {best_accuracy * 100:.2f}%\")\n",
        "\n",
        "# Baseline accuracy (without augmentations)\n",
        "baseline_pred = NN(train_X, train_y, test_X)\n",
        "baseline_accuracy = Accuracy(test_y, baseline_pred)\n",
        "print(f\"Baseline accuracy without augmentations: {baseline_accuracy * 100:.2f}%\")\n",
        "\n",
        "# Calculate accuracy improvement\n",
        "improvement = (best_accuracy - baseline_accuracy) * 100\n",
        "print(f\"Accuracy improvement with augmentations: {improvement:.2f}%\")\n"
      ],
      "metadata": {
        "id": "xVzmd2mVVmiK",
        "outputId": "10d9d2f6-e64f-42c0-b8b1-ea5c59eea0b3",
        "colab": {
          "base_uri": "https://localhost:8080/"
        }
      },
      "execution_count": null,
      "outputs": [
        {
          "output_type": "stream",
          "name": "stdout",
          "text": [
            "Accuracy with shear 0 and angle 0 is 15.00%\n",
            "Accuracy with shear 0 and angle 15 is 15.00%\n",
            "Accuracy with shear 0 and angle 30 is 10.00%\n",
            "Accuracy with shear 0 and angle 45 is 10.00%\n",
            "Accuracy with shear 0 and angle 60 is 10.00%\n",
            "Accuracy with shear 0 and angle 75 is 10.00%\n",
            "Accuracy with shear 0 and angle 90 is 0.00%\n",
            "Accuracy with shear 0.2 and angle 0 is 15.00%\n",
            "Accuracy with shear 0.2 and angle 15 is 0.00%\n",
            "Accuracy with shear 0.2 and angle 30 is 5.00%\n",
            "Accuracy with shear 0.2 and angle 45 is 20.00%\n",
            "Accuracy with shear 0.2 and angle 60 is 10.00%\n",
            "Accuracy with shear 0.2 and angle 75 is 15.00%\n",
            "Accuracy with shear 0.2 and angle 90 is 10.00%\n",
            "Accuracy with shear 0.4 and angle 0 is 5.00%\n",
            "Accuracy with shear 0.4 and angle 15 is 15.00%\n",
            "Accuracy with shear 0.4 and angle 30 is 20.00%\n",
            "Accuracy with shear 0.4 and angle 45 is 5.00%\n",
            "Accuracy with shear 0.4 and angle 60 is 0.00%\n",
            "Accuracy with shear 0.4 and angle 75 is 5.00%\n",
            "Accuracy with shear 0.4 and angle 90 is 5.00%\n",
            "Accuracy with shear 0.6 and angle 0 is 15.00%\n",
            "Accuracy with shear 0.6 and angle 15 is 20.00%\n",
            "Accuracy with shear 0.6 and angle 30 is 5.00%\n",
            "Accuracy with shear 0.6 and angle 45 is 5.00%\n",
            "Accuracy with shear 0.6 and angle 60 is 5.00%\n",
            "Accuracy with shear 0.6 and angle 75 is 25.00%\n",
            "Accuracy with shear 0.6 and angle 90 is 20.00%\n",
            "Accuracy with shear 0.8 and angle 0 is 5.00%\n",
            "Accuracy with shear 0.8 and angle 15 is 5.00%\n",
            "Accuracy with shear 0.8 and angle 30 is 0.00%\n",
            "Accuracy with shear 0.8 and angle 45 is 15.00%\n",
            "Accuracy with shear 0.8 and angle 60 is 10.00%\n",
            "Accuracy with shear 0.8 and angle 75 is 5.00%\n",
            "Accuracy with shear 0.8 and angle 90 is 10.00%\n",
            "Accuracy with shear 1.0 and angle 0 is 15.00%\n",
            "Accuracy with shear 1.0 and angle 15 is 10.00%\n",
            "Accuracy with shear 1.0 and angle 30 is 10.00%\n",
            "Accuracy with shear 1.0 and angle 45 is 15.00%\n",
            "Accuracy with shear 1.0 and angle 60 is 20.00%\n",
            "Accuracy with shear 1.0 and angle 75 is 20.00%\n",
            "Accuracy with shear 1.0 and angle 90 is 25.00%\n",
            "Accuracy with shear 1.2 and angle 0 is 5.00%\n",
            "Accuracy with shear 1.2 and angle 15 is 5.00%\n",
            "Accuracy with shear 1.2 and angle 30 is 0.00%\n",
            "Accuracy with shear 1.2 and angle 45 is 5.00%\n",
            "Accuracy with shear 1.2 and angle 60 is 5.00%\n",
            "Accuracy with shear 1.2 and angle 75 is 10.00%\n",
            "Accuracy with shear 1.2 and angle 90 is 0.00%\n",
            "Accuracy with shear 1.4 and angle 0 is 10.00%\n",
            "Accuracy with shear 1.4 and angle 15 is 10.00%\n",
            "Accuracy with shear 1.4 and angle 30 is 15.00%\n",
            "Accuracy with shear 1.4 and angle 45 is 5.00%\n",
            "Accuracy with shear 1.4 and angle 60 is 5.00%\n",
            "Accuracy with shear 1.4 and angle 75 is 20.00%\n",
            "Accuracy with shear 1.4 and angle 90 is 10.00%\n",
            "Accuracy with shear 1.6 and angle 0 is 10.00%\n",
            "Accuracy with shear 1.6 and angle 15 is 10.00%\n",
            "Accuracy with shear 1.6 and angle 30 is 10.00%\n",
            "Accuracy with shear 1.6 and angle 45 is 10.00%\n",
            "Accuracy with shear 1.6 and angle 60 is 10.00%\n",
            "Accuracy with shear 1.6 and angle 75 is 0.00%\n",
            "Accuracy with shear 1.6 and angle 90 is 20.00%\n",
            "Accuracy with shear 1.8 and angle 0 is 15.00%\n",
            "Accuracy with shear 1.8 and angle 15 is 20.00%\n",
            "Accuracy with shear 1.8 and angle 30 is 10.00%\n",
            "Accuracy with shear 1.8 and angle 45 is 0.00%\n",
            "Accuracy with shear 1.8 and angle 60 is 10.00%\n",
            "Accuracy with shear 1.8 and angle 75 is 10.00%\n",
            "Accuracy with shear 1.8 and angle 90 is 5.00%\n",
            "Accuracy with shear 2.0 and angle 0 is 15.00%\n",
            "Accuracy with shear 2.0 and angle 15 is 10.00%\n",
            "Accuracy with shear 2.0 and angle 30 is 0.00%\n",
            "Accuracy with shear 2.0 and angle 45 is 5.00%\n",
            "Accuracy with shear 2.0 and angle 60 is 15.00%\n",
            "Accuracy with shear 2.0 and angle 75 is 0.00%\n",
            "Accuracy with shear 2.0 and angle 90 is 15.00%\n",
            "Best shear constraint: 0.6\n",
            "Best angle constraint: 75\n",
            "Best accuracy: 25.00%\n",
            "Baseline accuracy without augmentations: 10.00%\n",
            "Accuracy improvement with augmentations: 15.00%\n"
          ]
        }
      ]
    },
    {
      "cell_type": "markdown",
      "source": [
        "> Exercise: Try to take 50 images of each digit and calculate the performance on test set."
      ],
      "metadata": {
        "id": "zu590B33-Xp_"
      }
    }
  ],
  "metadata": {
    "colab": {
      "provenance": [],
      "include_colab_link": true
    },
    "kernelspec": {
      "display_name": "Python 3",
      "name": "python3"
    },
    "language_info": {
      "codemirror_mode": {
        "name": "ipython",
        "version": 3
      },
      "file_extension": ".py",
      "mimetype": "text/x-python",
      "name": "python",
      "nbconvert_exporter": "python",
      "pygments_lexer": "ipython3",
      "version": "3.10.10"
    }
  },
  "nbformat": 4,
  "nbformat_minor": 0
}